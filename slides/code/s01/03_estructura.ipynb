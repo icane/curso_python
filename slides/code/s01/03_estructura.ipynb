{
 "cells": [
  {
   "cell_type": "markdown",
   "metadata": {},
   "source": [
    "- `Ctrl+Intro`: ejecuta celda seleccionada\n",
    "- `Shift+Intro`: ejecuta celda seleccionada y pasa a la siguiente\n",
    "- `Alt+Intro`: ejecuta celda, inserta nueva y pasa a la siguiente"
   ]
  },
  {
   "cell_type": "code",
   "execution_count": null,
   "metadata": {},
   "outputs": [],
   "source": [
    "import os\n",
    "\n",
    "\n",
    "home = os.path.expanduser('~')  # directorio del usuario\n",
    "directorio = os.path.join(\n",
    "    home, 'Documents', 'python'\n",
    ")\n",
    "ficheros = []\n",
    "\n",
    "# Busca ficheros y guarda (nombre, tamaño)\n",
    "for f in os.listdir(directorio):\n",
    "    ruta = os.path.join(directorio, f)\n",
    "    if os.path.isfile(ruta):\n",
    "        tamaño = os.stat(ruta).st_size\n",
    "        ficheros.append((f, tamaño))\n",
    "        print(f)\n",
    "        print(tamaño)\n",
    "print(\"Total\", len(ficheros), \"ficheros\")"
   ]
  },
  {
   "cell_type": "code",
   "execution_count": null,
   "metadata": {},
   "outputs": [],
   "source": [
    "ficheros"
   ]
  },
  {
   "cell_type": "code",
   "execution_count": null,
   "metadata": {},
   "outputs": [],
   "source": [
    "# Comentario\n",
    "ficheros = [f for f in os.listdir(directorio)  # comentario en línea\n",
    "            if os.path.isfile(os.path.join(directorio, f))]\n",
    "for f in ficheros:\n",
    "    print(f)\n",
    "    print(os.stat(os.path.join(directorio, f)).st_size)"
   ]
  },
  {
   "cell_type": "code",
   "execution_count": null,
   "metadata": {},
   "outputs": [],
   "source": [
    "ficheros"
   ]
  },
  {
   "cell_type": "code",
   "execution_count": null,
   "metadata": {},
   "outputs": [],
   "source": [
    "from pathlib import Path\n",
    "\n",
    "\n",
    "home = Path.home()  # pathlib.Path.home()\n",
    "directorio = home / 'Documents' / 'python'\n",
    "\n",
    "\n",
    "def busca_ficheros(directorio):\n",
    "    return (\n",
    "      (f.name, f.stat().st_size) for f in directorio.iterdir() if f.is_file()\n",
    "    )\n",
    "\n",
    "\n",
    "for (nombre, tamaño) in busca_ficheros(directorio):\n",
    "    print(f'Encontrado fichero {nombre} de {tamaño} Bytes')"
   ]
  },
  {
   "cell_type": "code",
   "execution_count": null,
   "metadata": {},
   "outputs": [],
   "source": [
    "import builtins\n",
    "import keyword"
   ]
  },
  {
   "cell_type": "code",
   "execution_count": null,
   "metadata": {},
   "outputs": [],
   "source": [
    "print(', '.join(keyword.kwlist))"
   ]
  },
  {
   "cell_type": "code",
   "execution_count": null,
   "metadata": {},
   "outputs": [],
   "source": [
    "print(dir(builtins))"
   ]
  },
  {
   "cell_type": "code",
   "execution_count": null,
   "metadata": {},
   "outputs": [],
   "source": [
    "import sys\n",
    "import math\n",
    "\n",
    "\n",
    "def area(radio):\n",
    "    return math.pi * (radio ** 2)\n",
    "\n",
    "\n",
    "def longitud(radio):\n",
    "    return 2 * math.pi * radio\n"
   ]
  },
  {
   "cell_type": "code",
   "execution_count": null,
   "metadata": {},
   "outputs": [],
   "source": [
    "radio = float(input())\n",
    "print(\"La longitud de una circunferencia de radio {}cm es {:.2f}cm^2.\"\n",
    "      .format(radio, longitud(radio)))\n",
    "print(\"El area de una circunferencia de radio {1}cm es {0:.2f}cm^2.\"\n",
    "      .format(area(radio), radio))"
   ]
  },
  {
   "cell_type": "code",
   "execution_count": null,
   "metadata": {},
   "outputs": [],
   "source": [
    "%matplotlib inline\n",
    "import numpy as np\n",
    "from matplotlib import pyplot as plt\n",
    "\n",
    "\n",
    "a = np.linspace(0, 1, 1000)\n",
    "b = np.sin(2*np.pi*a)\n",
    "\n",
    "plt.plot(a, b)"
   ]
  }
 ],
 "metadata": {
  "kernelspec": {
   "display_name": "Python 3",
   "language": "python",
   "name": "python3"
  },
  "language_info": {
   "codemirror_mode": {
    "name": "ipython",
    "version": 3
   },
   "file_extension": ".py",
   "mimetype": "text/x-python",
   "name": "python",
   "nbconvert_exporter": "python",
   "pygments_lexer": "ipython3",
   "version": "3.7.3"
  }
 },
 "nbformat": 4,
 "nbformat_minor": 2
}
