{
 "cells": [
  {
   "cell_type": "markdown",
   "metadata": {},
   "source": [
    "# Caso práctico\n",
    "## Visualización con `pandas`\n",
    "\n",
    "### Recordad: atajos de teclado\n",
    "- `Ctrl + Enter`: ejecuta celda seleccionada\n",
    "- `Mayúsculas + Enter`: ejecuta celda seleccionada y pasa a la siguiente\n",
    "- `Alt + Enter`: ejecuta celda, inserta nueva y pasa a la siguiente"
   ]
  },
  {
   "cell_type": "code",
   "execution_count": null,
   "metadata": {},
   "outputs": [],
   "source": [
    "%matplotlib inline"
   ]
  },
  {
   "cell_type": "code",
   "execution_count": null,
   "metadata": {},
   "outputs": [],
   "source": [
    "import matplotlib.pyplot as plt\n",
    "import numpy as np\n",
    "import pandas as pd\n",
    "import seaborn as sns\n",
    "\n",
    "sns.set()\n",
    "plt.rcParams['figure.figsize'] = [20.0, 10.0]\n",
    "sns.set_context('talk')  # fuentes más grandes"
   ]
  },
  {
   "cell_type": "code",
   "execution_count": null,
   "metadata": {},
   "outputs": [],
   "source": [
    "csv_datos = 'http://www.ine.es/jaxi/files/_px/es/csv_sc/t20/e301/nacim/a2017/l0/03022.csv_sc?nocab=1'\n",
    "# csv_datos = 'nacimientos.csv'"
   ]
  },
  {
   "cell_type": "markdown",
   "metadata": {},
   "source": [
    "> Cambiar el origen de los datos a local (`nacimientos.csv`) en caso de problemas de conectividad"
   ]
  },
  {
   "cell_type": "code",
   "execution_count": null,
   "metadata": {},
   "outputs": [],
   "source": [
    "# Descarga los datos y limpia datos innecesarios\n",
    "nacimientos = pd.read_csv(csv_datos,\n",
    "                          sep=';',\n",
    "                          encoding='utf-8',\n",
    "                          skipfooter=2, engine='python',\n",
    "                          na_values='..',\n",
    "                          header=[4, 5],\n",
    "                          index_col=0)\n",
    "\n",
    "nacimientos.dropna(axis=1, inplace=True)\n",
    "meses = nacimientos.columns.get_level_values(0)[0::3].values.repeat(3)\n",
    "nacimientos.columns = pd.MultiIndex.from_tuples(\n",
    "    zip(meses, nacimientos.columns.get_level_values(1)),\n",
    "    names=['Mes', 'Sexo']\n",
    ")"
   ]
  },
  {
   "cell_type": "code",
   "execution_count": null,
   "metadata": {},
   "outputs": [],
   "source": [
    "uniprovinciales = ['Cantabria', 'Rioja, La', 'Murcia', 'Asturias', 'Navarra', 'Balears, Illes', 'Madrid']\n",
    "# provincias que empiezan por la letra 'G'\n",
    "provincias_g = [prov for prov in nacimientos.index if prov.upper().startswith('G')]\n",
    "\n",
    "dfu = nacimientos.Total.reindex(uniprovinciales)\n",
    "\n",
    "#####\n",
    "dfu.plot.bar();  # crea gráfico de barras\n",
    "#####\n",
    "dfu"
   ]
  },
  {
   "cell_type": "markdown",
   "metadata": {},
   "source": [
    "## 1 - Crea una figura con 2 subplots (uno junto al otro) y dibuja los gráficos de barras para `uniprovinciales` y `provincias_g`"
   ]
  },
  {
   "cell_type": "code",
   "execution_count": null,
   "metadata": {},
   "outputs": [],
   "source": []
  },
  {
   "cell_type": "markdown",
   "metadata": {},
   "source": [
    "### 1.2 Repite el mismo gráfico con barras apiladas\n",
    "- **BONUS**: Omite la columna 'Total'"
   ]
  },
  {
   "cell_type": "code",
   "execution_count": null,
   "metadata": {},
   "outputs": [],
   "source": []
  },
  {
   "cell_type": "markdown",
   "metadata": {},
   "source": [
    "## 2 -  Representa la evolución anual para cada provincia\n",
    "- Eje 'x': tiempo\n",
    "- Eje 'y': Total de nacimientos\n",
    "- **`[BONUS #1]`**: Excluir datos de Madrid\n",
    "- **`[BONUS #2]`** Estilo de línea: contínua con marcadores en 'v'"
   ]
  },
  {
   "cell_type": "code",
   "execution_count": null,
   "metadata": {},
   "outputs": [],
   "source": [
    "dfu = nacimientos.reindex(uniprovinciales)        # filtra por provincias\n",
    "dfu.drop('Total', axis=1, level=0, inplace=True)  # tira columna de totales\n",
    "dfu_totales = dfu.xs('Total', axis=1, level=1)    # extrae columna de totales"
   ]
  },
  {
   "cell_type": "code",
   "execution_count": null,
   "metadata": {},
   "outputs": [],
   "source": []
  },
  {
   "cell_type": "markdown",
   "metadata": {},
   "source": [
    "### 2.2 Repetir con un gráfico por provincia colocadas una junto a la otra (usar el atributo `layout`)"
   ]
  },
  {
   "cell_type": "code",
   "execution_count": null,
   "metadata": {},
   "outputs": [],
   "source": []
  },
  {
   "cell_type": "markdown",
   "metadata": {},
   "source": [
    "## 3 - Mismo gráfico que en `2.2`, pero compartiendo el eje 'y'\n",
    "\n",
    "- **`[BONUS #1]`**: excluir datos de Madrid\n",
    "- **`[BONUS #2]`**: dibujar una marca en el eje de abcisas cada 3 meses"
   ]
  },
  {
   "cell_type": "code",
   "execution_count": null,
   "metadata": {},
   "outputs": [],
   "source": []
  },
  {
   "cell_type": "markdown",
   "metadata": {},
   "source": [
    "## 4 - Nombrar cada gráfico de (3) con un título\n",
    "\n",
    "- **`[BONUS]`**: Establecer una nota (título) global para toda la figura\n",
    "  `plt.gca().get_figure()` obtiene la referencia a la figura"
   ]
  },
  {
   "cell_type": "code",
   "execution_count": null,
   "metadata": {},
   "outputs": [],
   "source": []
  },
  {
   "cell_type": "markdown",
   "metadata": {},
   "source": [
    "## 5 - Crear un gráfico de área con los datos de Cantabria\n",
    "\n",
    "- Establecer un tamaño de 12 pulgadas de ancho por 8 de alto\n",
    "- Excluir la columna de datos totales (mujeres+hombres)"
   ]
  },
  {
   "cell_type": "code",
   "execution_count": null,
   "metadata": {},
   "outputs": [],
   "source": []
  },
  {
   "cell_type": "markdown",
   "metadata": {},
   "source": [
    "## 6 - Repetir el gráfico anterior sin datos apilados\n",
    "\n",
    "- Datos apilados por defecto"
   ]
  },
  {
   "cell_type": "code",
   "execution_count": null,
   "metadata": {},
   "outputs": [],
   "source": []
  },
  {
   "cell_type": "markdown",
   "metadata": {},
   "source": [
    "## 7 - Crear un diagrama de cajas (`boxplot`) sin cuadrícula\n",
    "\n",
    "- Usar un tamaño de 8 por 6 pulgadas"
   ]
  },
  {
   "cell_type": "code",
   "execution_count": null,
   "metadata": {},
   "outputs": [],
   "source": []
  },
  {
   "cell_type": "markdown",
   "metadata": {},
   "source": [
    "## 8 - Repetir el diagrama anterior girando las etiquetas del eje 'x'"
   ]
  },
  {
   "cell_type": "code",
   "execution_count": null,
   "metadata": {},
   "outputs": [],
   "source": []
  },
  {
   "cell_type": "markdown",
   "metadata": {},
   "source": [
    "## 9 - Ajustar los ejes en el gráfico generado en `2`\n",
    "\n",
    "- Eje 'x' entre 3 y  (3=Abril, 8=Septiembre)\n",
    "- Eje 'y' entre 0 y 1500\n",
    "- Sin cuadrícula\n",
    "- **`[BONUS]`**: Leyenda en la parte superior izquierda\n",
    "- **`[BONUS]`**: añadir marcas en el eje 'x' cada 2 meses"
   ]
  },
  {
   "cell_type": "code",
   "execution_count": null,
   "metadata": {},
   "outputs": [],
   "source": []
  },
  {
   "cell_type": "markdown",
   "metadata": {},
   "source": [
    "\n",
    "## 10 - Cambiar el mapa de colores del gráfico anterior"
   ]
  },
  {
   "cell_type": "code",
   "execution_count": null,
   "metadata": {},
   "outputs": [],
   "source": [
    "# Lista de mapas de colores disponibles\n",
    "# colores invertidos: nombre_r (ejemplo: 'Blues_r')\n",
    "\n",
    "print([cm for cm in plt.cm.datad if not cm.endswith(\"_r\")])"
   ]
  },
  {
   "cell_type": "code",
   "execution_count": null,
   "metadata": {},
   "outputs": [],
   "source": []
  },
  {
   "cell_type": "markdown",
   "metadata": {},
   "source": [
    "## 11 - Añadir un segundo eje de ordenadas con los datos de Madrid\n",
    "\n",
    "- Omitir el posicionamiento de la leyenda"
   ]
  },
  {
   "cell_type": "code",
   "execution_count": null,
   "metadata": {},
   "outputs": [],
   "source": []
  },
  {
   "cell_type": "markdown",
   "metadata": {},
   "source": [
    "## 12 - Incluir los datos en el segundo gráfico generado en [1]\n",
    "\n",
    "- **`[BONUS]`**: Elimina los ticks del eje 'x' (`set_xticklabels()`)"
   ]
  },
  {
   "cell_type": "code",
   "execution_count": null,
   "metadata": {},
   "outputs": [],
   "source": []
  },
  {
   "cell_type": "markdown",
   "metadata": {},
   "source": [
    "# BONUS\n",
    "\n",
    "## Generar un gráfico circular con estilo 'xkcd' con los datos de Cantabria"
   ]
  },
  {
   "cell_type": "code",
   "execution_count": null,
   "metadata": {},
   "outputs": [],
   "source": []
  }
 ],
 "metadata": {
  "kernelspec": {
   "display_name": "Python 3",
   "language": "python",
   "name": "python3"
  },
  "language_info": {
   "codemirror_mode": {
    "name": "ipython",
    "version": 3
   },
   "file_extension": ".py",
   "mimetype": "text/x-python",
   "name": "python",
   "nbconvert_exporter": "python",
   "pygments_lexer": "ipython3",
   "version": "3.7.3"
  }
 },
 "nbformat": 4,
 "nbformat_minor": 2
}
